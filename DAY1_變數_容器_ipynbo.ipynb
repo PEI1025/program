{
  "cells": [
    {
      "cell_type": "markdown",
      "metadata": {
        "id": "view-in-github",
        "colab_type": "text"
      },
      "source": [
        "<a href=\"https://colab.research.google.com/github/PEI1025/program/blob/main/DAY1_%E8%AE%8A%E6%95%B8_%E5%AE%B9%E5%99%A8_ipynbo.ipynb\" target=\"_parent\"><img src=\"https://colab.research.google.com/assets/colab-badge.svg\" alt=\"Open In Colab\"/></a>"
      ]
    },
    {
      "cell_type": "markdown",
      "source": [
        "# 1.底層，原子:字串str,整數int,小數fioat,布林bool\n"
      ],
      "metadata": {
        "id": "b_INpZq2kRE0"
      }
    },
    {
      "cell_type": "code",
      "source": [
        "aaa='hello'"
      ],
      "metadata": {
        "id": "lT403cMTivrt"
      },
      "execution_count": null,
      "outputs": []
    },
    {
      "cell_type": "code",
      "source": [
        "type(aaa)"
      ],
      "metadata": {
        "id": "KVTto1oJjj71",
        "outputId": "0fbe2820-3107-4963-c71c-5f6674ae9709",
        "colab": {
          "base_uri": "https://localhost:8080/"
        }
      },
      "execution_count": null,
      "outputs": [
        {
          "output_type": "execute_result",
          "data": {
            "text/plain": [
              "str"
            ]
          },
          "metadata": {},
          "execution_count": 9
        }
      ]
    },
    {
      "cell_type": "code",
      "source": [
        "rooms = {1: 'Foyer', 2: 'Conference Room'}\n",
        "room = input('Enter the room number: ')\n",
        "if not room in rooms:\n",
        "\tprint('Room does not exist.')\n",
        "else:\n",
        "\tprint(\"The room name is \" + rooms[room])\n"
      ],
      "metadata": {
        "colab": {
          "base_uri": "https://localhost:8080/"
        },
        "id": "l6dMGog-pHKF",
        "outputId": "bf111ce3-f697-4d08-8332-a5d7e66f98ab"
      },
      "execution_count": 1,
      "outputs": [
        {
          "output_type": "stream",
          "name": "stdout",
          "text": [
            "Enter the room number: 1\n",
            "Room does not exist.\n"
          ]
        }
      ]
    }
  ],
  "metadata": {
    "colab": {
      "toc_visible": true,
      "provenance": [],
      "include_colab_link": true
    },
    "kernelspec": {
      "display_name": "Python 3",
      "name": "python3"
    }
  },
  "nbformat": 4,
  "nbformat_minor": 0
}